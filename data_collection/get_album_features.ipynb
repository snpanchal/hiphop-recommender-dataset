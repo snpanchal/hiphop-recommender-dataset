{
 "metadata": {
  "language_info": {
   "codemirror_mode": {
    "name": "ipython",
    "version": 3
   },
   "file_extension": ".py",
   "mimetype": "text/x-python",
   "name": "python",
   "nbconvert_exporter": "python",
   "pygments_lexer": "ipython3",
   "version": "3.6.9-final"
  },
  "orig_nbformat": 2,
  "kernelspec": {
   "name": "python3",
   "display_name": "Python 3"
  }
 },
 "nbformat": 4,
 "nbformat_minor": 2,
 "cells": [
  {
   "source": [
    "# Getting Details that Describe Each Album\n",
    "\n",
    "Spotify does a fantastic job of describing each track, because it has features such as the acousticness, danceability, energy, and instrumentalness as a part of its API. All of these features can be aggregated for all tracks in the album to get overall values for each feature for the whole album. These values can then be used to create a feature vector for each album."
   ],
   "cell_type": "markdown",
   "metadata": {}
  },
  {
   "cell_type": "code",
   "execution_count": 33,
   "metadata": {},
   "outputs": [],
   "source": [
    "import requests\n",
    "import pandas as pd\n",
    "import sqlite3\n",
    "from utils import get_request_headers\n",
    "\n",
    "db_con = sqlite3.connect('albums.db')\n",
    "request_headers = get_request_headers()"
   ]
  },
  {
   "source": [
    "Get all albums from albums database table in `albums.db`."
   ],
   "cell_type": "markdown",
   "metadata": {}
  },
  {
   "cell_type": "code",
   "execution_count": 30,
   "metadata": {
    "tags": []
   },
   "outputs": [],
   "source": [
    "df = pd.read_sql_query('SELECT * FROM albums', db_con)\n",
    "album_ids = df['spotify_id']"
   ]
  },
  {
   "source": [
    "For each album, get the tracks."
   ],
   "cell_type": "markdown",
   "metadata": {}
  },
  {
   "cell_type": "code",
   "execution_count": 48,
   "metadata": {
    "tags": []
   },
   "outputs": [
    {
     "output_type": "execute_result",
     "data": {
      "text/plain": [
       "['2BebsgURFz2BPXMO95vxdJ',\n",
       " '5VfowCagr2kyjAQPyR3tqs',\n",
       " '25hKHxBGCZqAd3KW6WlNuu',\n",
       " '1IAaAjmPMjyToGvtZXt4Gt',\n",
       " '2CpnVLGUCb3yKVpghYsbBL',\n",
       " '6mzuhkLnwRNcVVRrA4v1r1',\n",
       " '5CKyZbNRrvC98mPcScIUtT',\n",
       " '5ngbvSnoZh1Kj5GUozoXfR',\n",
       " '6uiclS3XuoX3AHNq6OVJXY',\n",
       " '7GucpqkJRENIN9F1LMlWhx',\n",
       " '6UL4o3fCsOAfgPow7Rck81',\n",
       " '3UMhetaB5d2Egu49pfpNQA',\n",
       " '3o83QW2TLxMA6PdSro3oLM',\n",
       " '2ZDnbSwSCDmRz9Re08pQW1',\n",
       " '0F0Y6RxLpOo86HMFmShOMF',\n",
       " '0DJYJ1LFYk0TEni2RY3yk0']"
      ]
     },
     "metadata": {},
     "execution_count": 48
    }
   ],
   "source": [
    "SPOTIFY_GET_ALBUM_TRACKS_URL = 'https://api.spotify.com/v1/albums/{id}/tracks?limit=50'\n",
    "album_id = album_ids[0]\n",
    "result = requests.get(SPOTIFY_GET_ALBUM_TRACKS_URL.format(id=album_id), headers=request_headers).json()\n",
    "track_ids = [track['id'] for track in result['items']]\n",
    "track_ids\n"
   ]
  },
  {
   "cell_type": "code",
   "execution_count": 49,
   "metadata": {},
   "outputs": [],
   "source": [
    "db_con.close()"
   ]
  }
 ]
}