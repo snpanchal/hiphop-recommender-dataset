{
 "metadata": {
  "language_info": {
   "codemirror_mode": {
    "name": "ipython",
    "version": 3
   },
   "file_extension": ".py",
   "mimetype": "text/x-python",
   "name": "python",
   "nbconvert_exporter": "python",
   "pygments_lexer": "ipython3",
   "version": "3.6.9-final"
  },
  "orig_nbformat": 2,
  "kernelspec": {
   "name": "python3",
   "display_name": "Python 3"
  }
 },
 "nbformat": 4,
 "nbformat_minor": 2,
 "cells": [
  {
   "source": [
    "# Getting Details that Describe Each Album\n",
    "\n",
    "Spotify does a fantastic job of describing each track, because it has features such as the acousticness, danceability, energy, and instrumentalness as a part of its API. All of these features can be aggregated for all tracks in the album to get overall values for each feature for the whole album. These values can then be used to create a feature vector for each album."
   ],
   "cell_type": "markdown",
   "metadata": {}
  },
  {
   "cell_type": "code",
   "execution_count": 45,
   "metadata": {},
   "outputs": [],
   "source": [
    "import requests\n",
    "import pandas as pd\n",
    "import sqlite3\n",
    "from utils import get_request_headers\n",
    "\n",
    "db_con = sqlite3.connect('../albums.db')\n",
    "request_headers = get_request_headers()"
   ]
  },
  {
   "source": [
    "Get all albums from albums database table in `albums.db`."
   ],
   "cell_type": "markdown",
   "metadata": {}
  },
  {
   "cell_type": "code",
   "execution_count": 36,
   "metadata": {
    "tags": []
   },
   "outputs": [],
   "source": [
    "df = pd.read_sql_query('SELECT * FROM albums', db_con)\n",
    "\n",
    "# initialize album features to zero\n",
    "df['acousticness'] = df['danceability'] = df['energy'] = df['instrumentalness'] = df['liveness'] = df['loudness'] = df['speechiness'] = df['valence'] = df['tempo'] = 0.0"
   ]
  },
  {
   "source": [
    "Features to consider for each album: acousticness, danceability, energy, instrumentalness, liveness, speechiness, valence, loudness, and tempo\n",
    "All features except loudness and tempo can have any value in a range from 0 to 1 for each track.\n",
    "\n",
    "Do the following for each album:\n",
    "1. Get all tracks on the album.\n",
    "2. Get audio features for all tracks.\n",
    "3. Calculate the total of acousticness, danceability, energy, instrumentalness, liveness, speechiness, and valence for each album using the audio features from each track.\n",
    "4. For tempo and loudness, a total value across all tracks does not make sense, so a weighted average (based on track playtime) can be used to calculate an \"average\" tempo or loudness.\n",
    "5. Since different albums will have different numbers of tracks, all totalled features will be scaled to be between 0 and 1 so we can compare between two albums."
   ],
   "cell_type": "markdown",
   "metadata": {}
  },
  {
   "cell_type": "code",
   "execution_count": 37,
   "metadata": {
    "tags": []
   },
   "outputs": [],
   "source": [
    "SPOTIFY_GET_ALBUM_TRACKS_URL = 'https://api.spotify.com/v1/albums/{id}/tracks?limit=50'\n",
    "SPOTIFY_GET_TRACK_FEATURES_URL = 'https://api.spotify.com/v1/audio-features'\n",
    "\n",
    "for i in range(len(df)):\n",
    "    album_id = df['spotify_id'][i]\n",
    "    result = requests.get(SPOTIFY_GET_ALBUM_TRACKS_URL.format(id=album_id), headers=request_headers).json()\n",
    "    track_ids = [track['id'] for track in result['items']]\n",
    "    result = requests.get(SPOTIFY_GET_TRACK_FEATURES_URL, params={'ids': ','.join(track_ids)}, headers=request_headers).json()\n",
    "\n",
    "    album_duration = 0\n",
    "    for track_features in result['audio_features']:\n",
    "        if (track_features): album_duration += track_features['duration_ms']\n",
    "\n",
    "    # initialize feature sums with 0 value\n",
    "    acousticness = danceability = energy = instrumentalness = liveness = loudness = speechiness = valence = tempo = 0\n",
    "    null_tracks = 0\n",
    "    for track_features in result['audio_features']:\n",
    "        if (not track_features):\n",
    "            null_tracks += 1\n",
    "            continue\n",
    "        acousticness += track_features['acousticness']\n",
    "        danceability += track_features['danceability']\n",
    "        energy += track_features['energy']\n",
    "        instrumentalness += track_features['instrumentalness']\n",
    "        liveness += track_features['liveness']\n",
    "        loudness += (track_features['loudness'] * track_features['duration_ms'] / album_duration) # weighted avg for loudness based on track duration\n",
    "        speechiness += track_features['speechiness']\n",
    "        valence += track_features['valence']\n",
    "        tempo += (track_features['tempo'] * track_features['duration_ms'] / album_duration) # weighted avg for tempo based on track duration\n",
    "\n",
    "    num_tracks = len(result['audio_features']) - null_tracks \n",
    "\n",
    "    # scale all aggregated features to be between 0 and 1\n",
    "    df['acousticness'][i] = acousticness / num_tracks\n",
    "    df['danceability'][i] = danceability / num_tracks\n",
    "    df['energy'][i] = energy / num_tracks\n",
    "    df['instrumentalness'][i] = instrumentalness / num_tracks\n",
    "    df['liveness'][i] = liveness / num_tracks\n",
    "    df['speechiness'][i] = speechiness / num_tracks\n",
    "    df['valence'][i] = valence / num_tracks\n",
    "    \n",
    "    df['loudness'][i] = loudness\n",
    "    df['tempo'][i] = tempo"
   ]
  },
  {
   "source": [
    "Save all data gathered in dataframe to albums table in `albums.db` database. Feature values for each album will be added to that album's row in the table at this point."
   ],
   "cell_type": "markdown",
   "metadata": {}
  },
  {
   "cell_type": "code",
   "execution_count": 42,
   "metadata": {},
   "outputs": [],
   "source": [
    "df.to_sql('albums', db_con, if_exists='replace')"
   ]
  },
  {
   "source": [
    "Close database connection."
   ],
   "cell_type": "markdown",
   "metadata": {}
  },
  {
   "cell_type": "code",
   "execution_count": 46,
   "metadata": {},
   "outputs": [],
   "source": [
    "db_con.close()"
   ]
  }
 ]
}