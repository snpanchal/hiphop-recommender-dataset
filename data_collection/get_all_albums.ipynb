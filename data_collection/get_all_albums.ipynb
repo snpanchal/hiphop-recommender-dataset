{
 "metadata": {
  "language_info": {
   "codemirror_mode": {
    "name": "ipython",
    "version": 3
   },
   "file_extension": ".py",
   "mimetype": "text/x-python",
   "name": "python",
   "nbconvert_exporter": "python",
   "pygments_lexer": "ipython3",
   "version": "3.6.9-final"
  },
  "orig_nbformat": 2,
  "kernelspec": {
   "name": "python3",
   "display_name": "Python 3"
  }
 },
 "nbformat": 4,
 "nbformat_minor": 2,
 "cells": [
  {
   "source": [
    "# Getting Albums for All Rappers"
   ],
   "cell_type": "markdown",
   "metadata": {}
  },
  {
   "cell_type": "code",
   "execution_count": 11,
   "metadata": {},
   "outputs": [],
   "source": [
    "import requests\n",
    "from utils import Album, remove_duplicates, get_request_headers\n",
    "import sqlite3\n",
    "\n",
    "request_headers = get_request_headers()\n",
    "db_con = sqlite3.connect('../albums.db')"
   ]
  },
  {
   "source": [
    "Get list of rappers from `rappers.txt`."
   ],
   "cell_type": "markdown",
   "metadata": {}
  },
  {
   "cell_type": "code",
   "execution_count": 2,
   "metadata": {},
   "outputs": [],
   "source": [
    "with open('rappers.txt', 'r') as rappers_file:\n",
    "    rappers_list = rappers_file.readlines()\n",
    "    rappers_list = [rapper.strip() for rapper in rappers_list]"
   ]
  },
  {
   "source": [
    "Get rapper ID on Spotify for each rapper."
   ],
   "cell_type": "markdown",
   "metadata": {}
  },
  {
   "cell_type": "code",
   "execution_count": 3,
   "metadata": {},
   "outputs": [],
   "source": [
    "SPOTIFY_SEARCH_URL = 'https://api.spotify.com/v1/search'\n",
    "\n",
    "rapper_ids = []\n",
    "for rapper in rappers_list:\n",
    "    result = requests.get(SPOTIFY_SEARCH_URL, params={\n",
    "        'q': rapper,\n",
    "        'type': 'artist'\n",
    "    }, headers=request_headers).json()\n",
    "\n",
    "    rapper_info = result['artists']['items'][0]\n",
    "    rapper_ids.append(rapper_info['id'])"
   ]
  },
  {
   "source": [
    "Get all albums for each rapper and save them in a dictionary to take care of duplicates (e.g. collaborative albums)."
   ],
   "cell_type": "markdown",
   "metadata": {}
  },
  {
   "cell_type": "code",
   "execution_count": 4,
   "metadata": {
    "tags": []
   },
   "outputs": [],
   "source": [
    "SPOTIFY_ALBUMS_URL = 'https://api.spotify.com/v1/artists/{id}/albums?offset=0&limit=50&include_groups=album'\n",
    "SPOTIFY_GET_ALBUMS_URL = 'https://api.spotify.com/v1/albums'\n",
    "\n",
    "albums_map = {}\n",
    "for rapper_id in rapper_ids:\n",
    "    result = requests.get(SPOTIFY_ALBUMS_URL.format(id=rapper_id), headers=request_headers).json()\n",
    "    album_ids = [a['id'] for a in result['items'] if a['album_type'] == 'album']\n",
    "    for i in range(0, len(album_ids), 20):\n",
    "        album_ids_upper_bound = i + 20 if (i + 20) < len(album_ids) else len(album_ids)\n",
    "        result = requests.get(SPOTIFY_GET_ALBUMS_URL, params={'ids': ','.join(album_ids[i:album_ids_upper_bound])}, headers=request_headers).json()\n",
    "        for a in result['albums']:\n",
    "            if (not a['id'] in albums_map):\n",
    "                tracks = a['tracks']['items']\n",
    "                album_is_explicit = any([track['explicit'] for track in tracks])\n",
    "                artist_names = [artist['name'] for artist in a['artists']]\n",
    "                album_artists = ', '.join(artist_names)\n",
    "                albums_map[a['id']] = Album(a['id'], a['name'], album_is_explicit, album_artists)"
   ]
  },
  {
   "source": [
    "Save all albums in `albums.db` database file."
   ],
   "cell_type": "markdown",
   "metadata": {}
  },
  {
   "cell_type": "code",
   "execution_count": 24,
   "metadata": {},
   "outputs": [],
   "source": [
    "db_cursor = db_con.cursor()\n",
    "db_cursor.execute(''' CREATE TABLE IF NOT EXISTS albums (\n",
    "    spotify_id text PRIMARY KEY,\n",
    "    name text NOT NULL,\n",
    "    artists text NOT NULL,\n",
    "    explicit integer NOT NULL    \n",
    "); ''')\n",
    "\n",
    "album_insert_statement = ''' INSERT INTO albums(spotify_id, name, artists, explicit)\n",
    "VALUES (?,?,?,?); '''\n",
    "\n",
    "final_albums_list = remove_duplicates(list(albums_map.values()))\n",
    "for album in final_albums_list:\n",
    "    db_cursor.execute(album_insert_statement, (album.id, album.name, album.artists, album.explicit))\n",
    "db_con.commit()"
   ]
  },
  {
   "source": [
    "db_con.close()"
   ],
   "cell_type": "code",
   "metadata": {},
   "execution_count": 26,
   "outputs": []
  }
 ]
}