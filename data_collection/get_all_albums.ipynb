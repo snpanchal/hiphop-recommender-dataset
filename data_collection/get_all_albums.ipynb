{
 "metadata": {
  "language_info": {
   "codemirror_mode": {
    "name": "ipython",
    "version": 3
   },
   "file_extension": ".py",
   "mimetype": "text/x-python",
   "name": "python",
   "nbconvert_exporter": "python",
   "pygments_lexer": "ipython3",
   "version": "3.6.9-final"
  },
  "orig_nbformat": 2,
  "kernelspec": {
   "name": "python3",
   "display_name": "Python 3"
  }
 },
 "nbformat": 4,
 "nbformat_minor": 2,
 "cells": [
  {
   "source": [
    "# Getting Albums for All Rappers"
   ],
   "cell_type": "markdown",
   "metadata": {}
  },
  {
   "cell_type": "code",
   "execution_count": 6,
   "metadata": {},
   "outputs": [],
   "source": [
    "import requests\n",
    "import os\n",
    "from dotenv import load_dotenv\n",
    "from utils import Album, remove_duplicates"
   ]
  },
  {
   "source": [
    "Use environment variables to get Spotify OAuth token and set up request headers."
   ],
   "cell_type": "markdown",
   "metadata": {}
  },
  {
   "cell_type": "code",
   "execution_count": 7,
   "metadata": {},
   "outputs": [],
   "source": [
    "load_dotenv('../.env')\n",
    "SPOTIFY_CLIENT_ID = os.getenv('SPOTIFY_CLIENT_ID')\n",
    "SPOTIFY_CLIENT_SECRET = os.getenv('SPOTIFY_CLIENT_SECRET')\n",
    "SPOTIFY_AUTH_URL = 'https://accounts.spotify.com/api/token'\n",
    "\n",
    "spotify_auth_reponse = requests.post(SPOTIFY_AUTH_URL, {\n",
    "    'grant_type': 'client_credentials',\n",
    "    'client_id': SPOTIFY_CLIENT_ID,\n",
    "    'client_secret': SPOTIFY_CLIENT_SECRET\n",
    "})\n",
    "\n",
    "auth_data = spotify_auth_reponse.json()\n",
    "access_token = auth_data['access_token']\n",
    "request_headers = {\n",
    "    'Authorization': 'Bearer {}'.format(access_token)\n",
    "}"
   ]
  },
  {
   "source": [
    "Get list of rappers from `rappers.txt`."
   ],
   "cell_type": "markdown",
   "metadata": {}
  },
  {
   "cell_type": "code",
   "execution_count": 8,
   "metadata": {},
   "outputs": [],
   "source": [
    "with open('rappers.txt', 'r') as rappers_file:\n",
    "    rappers_list = rappers_file.readlines()\n",
    "    rappers_list = [rapper.strip() for rapper in rappers_list]"
   ]
  },
  {
   "source": [
    "Get rapper ID on Spotify for each rapper."
   ],
   "cell_type": "markdown",
   "metadata": {}
  },
  {
   "cell_type": "code",
   "execution_count": 9,
   "metadata": {},
   "outputs": [],
   "source": [
    "SPOTIFY_SEARCH_URL = 'https://api.spotify.com/v1/search'\n",
    "\n",
    "rapper_ids = []\n",
    "for rapper in rappers_list:\n",
    "    result = requests.get(SPOTIFY_SEARCH_URL, params={\n",
    "        'q': rapper,\n",
    "        'type': 'artist'\n",
    "    }, headers=request_headers).json()\n",
    "\n",
    "    rapper_info = result['artists']['items'][0]\n",
    "    rapper_ids.append(rapper_info['id'])"
   ]
  },
  {
   "source": [
    "Get all albums for each rapper and save them in a dictionary to take care of duplicates (e.g. collaborative albums)."
   ],
   "cell_type": "markdown",
   "metadata": {}
  },
  {
   "cell_type": "code",
   "execution_count": 11,
   "metadata": {
    "tags": []
   },
   "outputs": [],
   "source": [
    "SPOTIFY_ALBUMS_URL = 'https://api.spotify.com/v1/artists/{id}/albums?offset=0&limit=50&include_groups=album'\n",
    "SPOTIFY_GET_ALBUM_URL = 'https://api.spotify.com/v1/albums/{id}'\n",
    "\n",
    "albums_map = {}\n",
    "for rapper_id in rapper_ids:\n",
    "    result = requests.get(SPOTIFY_ALBUMS_URL.format(id=rapper_id), headers=request_headers).json()\n",
    "    albums = [a for a in result['items'] if a['album_type'] == 'album']\n",
    "    for a in albums:\n",
    "        if (not a['id'] in albums_map):\n",
    "            album = requests.get(SPOTIFY_GET_ALBUM_URL.format(id=a['id']), headers=request_headers).json()\n",
    "            tracks = album['tracks']['items']\n",
    "            album_is_explicit = any([track['explicit'] for track in tracks])\n",
    "            albums_map[a['id']] = Album(a['id'], a['name'], album_is_explicit)"
   ]
  },
  {
   "source": [
    "Save all albums in `all_albums.csv` file"
   ],
   "cell_type": "markdown",
   "metadata": {}
  },
  {
   "cell_type": "code",
   "execution_count": 13,
   "metadata": {},
   "outputs": [],
   "source": [
    "all_albums_list = list(albums_map.values())\n",
    "with open('all_albums.csv', 'w') as all_albums_file:\n",
    "    all_albums_file.write('Spotify Album ID,Album Name\\n')\n",
    "    for album in all_albums_list:\n",
    "        all_albums_file.write('{},{}\\n'.format(str(album.id), album.name))"
   ]
  },
  {
   "source": [
    "Remove clean versions of albums and write them all to `albums.csv`"
   ],
   "cell_type": "markdown",
   "metadata": {}
  },
  {
   "cell_type": "code",
   "execution_count": 14,
   "metadata": {},
   "outputs": [],
   "source": [
    "final_albums_list = remove_duplicates(list(albums_map.values()))\n",
    "with open('albums.csv', 'w') as albums_file:\n",
    "    albums_file.write('Spotify Album ID,Album Name\\n')\n",
    "    for album in final_albums_list:\n",
    "        albums_file.write('{},{}\\n'.format(str(album.id), album.name))"
   ]
  }
 ]
}