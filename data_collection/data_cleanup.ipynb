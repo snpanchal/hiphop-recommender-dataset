{
 "metadata": {
  "language_info": {
   "codemirror_mode": {
    "name": "ipython",
    "version": 3
   },
   "file_extension": ".py",
   "mimetype": "text/x-python",
   "name": "python",
   "nbconvert_exporter": "python",
   "pygments_lexer": "ipython3",
   "version": "3.6.9-final"
  },
  "orig_nbformat": 2,
  "kernelspec": {
   "name": "python3",
   "display_name": "Python 3",
   "language": "python"
  }
 },
 "nbformat": 4,
 "nbformat_minor": 2,
 "cells": [
  {
   "source": [
    "# Data Cleanup\n",
    "\n",
    "Now that we have all of the albums and their features, we can use these features to clean up our dataset even more. The reason for this is because, currently there are many albums that are live or compilation albums. We shouldn't include these as they are simply live recordings of the artist's songs and don't offer any unique music."
   ],
   "cell_type": "markdown",
   "metadata": {}
  },
  {
   "cell_type": "code",
   "execution_count": 1,
   "metadata": {},
   "outputs": [],
   "source": [
    "import pandas as pd\n",
    "import sqlite3\n",
    "\n",
    "db_con = sqlite3.connect('../albums.db')\n",
    "df = pd.read_sql_query('SELECT * FROM albums', db_con)"
   ]
  },
  {
   "source": [
    "To clean up live albums, we can use the `liveness` feature to eliminate albums that are live recordings of songs. After going through the dataset, I noticed that live albums with a `liveness` value between 0.4 and 0.5 that would need to be removed. The rest of the albums with a `liveness` from 0.4 to 0.5 are not live and should still be kept. The live and normal albums tend to be mixed because of how instrumentals in the albums were mixed."
   ],
   "cell_type": "markdown",
   "metadata": {}
  },
  {
   "cell_type": "code",
   "execution_count": 3,
   "metadata": {},
   "outputs": [],
   "source": [
    "albums_to_remove = ['6HSnVwIMF1WIat7Zo5nlEk', '5zbuWnugNgJr4Jk4zpmhid', '74hPuIcd2Wa0T3FRqtTKHX', '7ctCScnWG0nMedlfUiauOk', '6bmqTZoqZg43Q6Ir9KxuJX'] # these albums have a 0.4 < liveness < 0.5 and are live\n",
    "\n",
    "df = df.loc[~(df['spotify_id'].isin(albums_to_remove))]"
   ]
  },
  {
   "source": [
    "Similar to above, for a `liveness` value greater than 0.5, the majority of albums are live albums, but there are some that are not and these must be kept."
   ],
   "cell_type": "markdown",
   "metadata": {}
  },
  {
   "cell_type": "code",
   "execution_count": 5,
   "metadata": {},
   "outputs": [],
   "source": [
    "# these albums have liveness >= 0.5 and are NOT live\n",
    "albums_to_keep = ['0H75KrMC04ITghNn57ilyE', '2PpxxoArVS7VEVhZlSOhY1', '6CDkzOkrL9Xd8tSy3IEzpB', '1PIRK8f52VBEEYjuSi4YMQ', '2NwBTEDVO8Kt4FUvyU0lhY', '08bWP7UxqYWNzGR7bWNyUz', '1vlcxiPI1nVfyTak4mncGk', '61OEfavu9kM9nHTdbPPH3H', '2JW8rnVDxP2jGHb3Clo6Au', '1GVfIlaZgK28laAqe8oFEu', '4VKQkZAaF9XLj9ZOVcrfN3', '776ihjJKcK7Y75dZqNEf6S', '3LBapZleXFpxvcLx0S7MWj', '3LBapZleXFpxvcLx0S7MWj', '0fq11sFx5SoPzaX7Lh9CFJ', '5z8Esh0TPpFjw0IqzItBAt' ]\n",
    "\n",
    "df = df.loc[(df['liveness'] < 0.5) | ((df['liveness'] >= 0.5) & (df['spotify_id'].isin(albums_to_keep)))]"
   ]
  },
  {
   "source": [
    "Overwrite table in the database and close the database connection."
   ],
   "cell_type": "markdown",
   "metadata": {}
  },
  {
   "cell_type": "code",
   "execution_count": 13,
   "metadata": {},
   "outputs": [],
   "source": [
    "df.to_sql('albums', db_con, if_exists='replace')\n",
    "db_con.close()"
   ]
  }
 ]
}