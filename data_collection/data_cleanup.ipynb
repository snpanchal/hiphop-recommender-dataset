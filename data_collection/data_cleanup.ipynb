{
 "metadata": {
  "language_info": {
   "codemirror_mode": {
    "name": "ipython",
    "version": 3
   },
   "file_extension": ".py",
   "mimetype": "text/x-python",
   "name": "python",
   "nbconvert_exporter": "python",
   "pygments_lexer": "ipython3",
   "version": "3.6.9-final"
  },
  "orig_nbformat": 2,
  "kernelspec": {
   "name": "python3",
   "display_name": "Python 3",
   "language": "python"
  }
 },
 "nbformat": 4,
 "nbformat_minor": 2,
 "cells": [
  {
   "source": [
    "# Data Cleanup\n",
    "\n",
    "Now that we have all of the albums and their features, we can use these features to clean up our dataset even more. The reason for this is because, there are some albums that do not need to be considered as they don't offer any new info."
   ],
   "cell_type": "markdown",
   "metadata": {}
  },
  {
   "cell_type": "code",
   "execution_count": 1,
   "metadata": {},
   "outputs": [],
   "source": [
    "import pandas as pd\n",
    "import sqlite3\n",
    "import album_lists\n",
    "\n",
    "db_con = sqlite3.connect('../albums.db')\n",
    "df = pd.read_sql_query('SELECT * FROM albums', db_con)\n",
    "df.drop(columns='index', inplace=True)"
   ]
  },
  {
   "source": [
    "## Live Albums\n",
    "\n",
    "Live albums are simply performance recordings of the artist's songs and don't offer any unique music. To clean up live albums, we can use the `liveness` feature to eliminate albums that are live recordings of songs. After going through the dataset, I noticed that live albums with a `liveness` value between 0.4 and 0.5 that would need to be removed. The rest of the albums with a `liveness` from 0.4 to 0.5 are not live and should still be kept. The live and normal albums tend to be mixed because of how instrumentals in the albums were mixed."
   ],
   "cell_type": "markdown",
   "metadata": {}
  },
  {
   "cell_type": "code",
   "execution_count": 3,
   "metadata": {},
   "outputs": [],
   "source": [
    "df = df.loc[~(df['spotify_id'].isin(album_lists.albums_to_remove))]"
   ]
  },
  {
   "source": [
    "Similar to above, for a `liveness` value greater than 0.5, the majority of albums are live albums, but there are some that are not and these must be kept."
   ],
   "cell_type": "markdown",
   "metadata": {}
  },
  {
   "cell_type": "code",
   "execution_count": 5,
   "metadata": {},
   "outputs": [],
   "source": [
    "df = df.loc[(df['liveness'] < 0.5) | ((df['liveness'] >= 0.5) & (df['spotify_id'].isin(album_lists.albums_to_keep)))]"
   ]
  },
  {
   "source": [
    "## Deluxe Albums\n",
    "\n",
    "Some artists usually release deluxe versions of their albums which have a few more tracks or remixes on top of the tracks in the original album. These types of albums also don't give us many new songs and we can disregard them."
   ],
   "cell_type": "markdown",
   "metadata": {}
  },
  {
   "cell_type": "code",
   "execution_count": 2,
   "metadata": {},
   "outputs": [],
   "source": [
    "df = df.loc[~(df['spotify_id'].isin(album_lists.deluxe_albums))]"
   ]
  },
  {
   "source": [
    "## Instrumental Albums\n",
    "\n",
    "Some albums in the dataset are also collections of instrumentals used in the artist's tracks. These can also be removed, as they are not helpful to our recommendations."
   ],
   "cell_type": "markdown",
   "metadata": {}
  },
  {
   "cell_type": "code",
   "execution_count": 4,
   "metadata": {},
   "outputs": [],
   "source": [
    "df = df.loc[~(df['spotify_id'].isin(album_lists.instrumental_albums))]"
   ]
  },
  {
   "source": [
    "Overwrite table in the database and close the database connection."
   ],
   "cell_type": "markdown",
   "metadata": {}
  },
  {
   "cell_type": "code",
   "execution_count": 6,
   "metadata": {},
   "outputs": [],
   "source": [
    "df.to_sql('albums', db_con, if_exists='replace')\n",
    "db_con.close()"
   ]
  }
 ]
}