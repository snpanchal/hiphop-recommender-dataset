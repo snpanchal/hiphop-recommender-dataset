{
 "metadata": {
  "language_info": {
   "codemirror_mode": {
    "name": "ipython",
    "version": 3
   },
   "file_extension": ".py",
   "mimetype": "text/x-python",
   "name": "python",
   "nbconvert_exporter": "python",
   "pygments_lexer": "ipython3",
   "version": "3.6.9-final"
  },
  "orig_nbformat": 2,
  "kernelspec": {
   "name": "python3",
   "display_name": "Python 3.6.9 64-bit",
   "metadata": {
    "interpreter": {
     "hash": "31f2aee4e71d21fbe5cf8b01ff0e069b9275f58929596ceb00d14d90e3e16cd6"
    }
   }
  }
 },
 "nbformat": 4,
 "nbformat_minor": 2,
 "cells": [
  {
   "source": [
    "# Getting All Relevant Rappers\n",
    "\n",
    "Getting a list of all relevant rappers will allow us to know which rappers to focus on when we decide which albums to create the dataset from. Albums from all rappers that we get here will be included in the dataset."
   ],
   "cell_type": "markdown",
   "metadata": {}
  },
  {
   "cell_type": "code",
   "execution_count": 48,
   "metadata": {},
   "outputs": [],
   "source": [
    "# import packages\n",
    "import requests\n",
    "from bs4 import BeautifulSoup as bs\n",
    "\n",
    "def get_rappers_from_list(link):\n",
    "    result = requests.get(link)\n",
    "    result_json = result.json()\n",
    "    rappers_list = result_json['listItems']\n",
    "    rapper_names = [rapper_obj['node']['name'] for rapper_obj in rappers_list]\n",
    "    return rapper_names"
   ]
  },
  {
   "source": [
    "### Getting Top Rappers of All Time"
   ],
   "cell_type": "markdown",
   "metadata": {}
  },
  {
   "cell_type": "code",
   "execution_count": 49,
   "metadata": {
    "tags": []
   },
   "outputs": [],
   "source": [
    "top_rappers_all_time = get_rappers_from_list('https://cache-api.ranker.com/lists/855723/items?limit=250')\n",
    "rappers_set = set(top_rappers_all_time)"
   ]
  },
  {
   "source": [
    "### Getting the Top Rap Groups of All Time"
   ],
   "cell_type": "markdown",
   "metadata": {}
  },
  {
   "cell_type": "code",
   "execution_count": 50,
   "metadata": {},
   "outputs": [],
   "source": [
    "top_rap_groups = get_rappers_from_list('https://cache-api.ranker.com/lists/589440/items?limit=100')\n",
    "rappers_set.update(set(top_rap_groups))"
   ]
  },
  {
   "source": [
    "### Getting the Top Rappers of 2019"
   ],
   "cell_type": "markdown",
   "metadata": {}
  },
  {
   "cell_type": "code",
   "execution_count": 51,
   "metadata": {},
   "outputs": [],
   "source": [
    "top_rappers_2019 = get_rappers_from_list('https://cache-api.ranker.com/lists/2750895/items')\n",
    "rappers_set.update(top_rappers_2019)"
   ]
  },
  {
   "source": [
    "### Getting the Top Rappers of 2020"
   ],
   "cell_type": "markdown",
   "metadata": {}
  },
  {
   "cell_type": "code",
   "execution_count": 52,
   "metadata": {},
   "outputs": [],
   "source": [
    "top_rappers_2020 = get_rappers_from_list('https://cache-api.ranker.com/lists/2841645/items')\n",
    "rappers_set.update(top_rappers_2020)"
   ]
  },
  {
   "source": [
    "### Export the List of Rappers to a `.txt` File."
   ],
   "cell_type": "markdown",
   "metadata": {}
  },
  {
   "cell_type": "code",
   "execution_count": 53,
   "metadata": {},
   "outputs": [],
   "source": [
    "rappers = list(rappers_set)\n",
    "with open('rappers.txt', 'w') as rappers_file:\n",
    "    for r in rappers:\n",
    "        rappers_file.write('{}\\n'.format(r))"
   ]
  }
 ]
}